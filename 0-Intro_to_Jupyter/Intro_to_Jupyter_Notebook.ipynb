{
 "cells": [
  {
   "cell_type": "markdown",
   "metadata": {},
   "source": [
    "# Introduction to Jupyter Notebook ![Jupyter logo](https://www.appliedis.com/wp-content/uploads/2017/08/Project-Jupyter-logo-300x272.png)\n"
   ]
  },
  {
   "cell_type": "markdown",
   "metadata": {},
   "source": [
    "This notebook is this first of a series that makes up a short course on computational skills for Materials Science students. The aim is to introduce you to the powerful tools of scientific computing so that you can use them to be a better, more efficient student and become a confident quantitative materials scientist. \n",
    "\n",
    "This course uses [Python](https://www.python.org) as the programming language and [Jupyter notebooks](https://www.jupyter.org) as an interactive computing platform. Jupyter notebooks make computation similar to using the commercial packages [Mathematica](http://www.wolfram.com/mathematica/) and [MATLAB](http://uk.mathworks.com/products/matlab/) but are [open source](https://en.wikipedia.org/wiki/Open-source_software), as is Python.\n",
    "\n",
    "These notebooks follow the structure of our computing sessions in the MATS15501 Computation and Comunication unit but they will not teach you all you should know about programming Python or using Jupyter. There a lot of useful resources out there and you should use them to develop your proficiency. A few of my favourite resources are:\n",
    "\n",
    "-[The Python documentation](https://docs.python.org/)\n",
    "\n",
    "-[Beginners guide for non-programmers](https://wiki.python.org/moin/BeginnersGuide/NonProgrammers)\n",
    "\n",
    "-[The Jupyter notebook documentation](https://jupyter-notebook.readthedocs.io/en/stable/)\n",
    "\n",
    "-[Stack overflow](https://stackoverflow.com/)\n",
    "\n",
    "And don't forget [Google](https://www.google.com). Typing \"how do I do .... in Python\" in Google is very effective. "
   ]
  },
  {
   "cell_type": "markdown",
   "metadata": {
    "collapsed": true
   },
   "source": [
    "### Getting started"
   ]
  },
  {
   "cell_type": "markdown",
   "metadata": {},
   "source": [
    "We will use the Anaconda distributions available on the cluster computers. If you wan to use Jupyter on your own computer you will need to install a scientific python distribution like [Anaconda](https://www.anaconda.com/download/). You can also use the notebooks available via Microsoft Azure Notebooks. You should be able to log in with your Office365 login. You will need to create a new Library and then click on `+ New` to add files and notebooks. These could be new files or can be uploaded from your computer.\n",
    "\n",
    "Running Jupyter is easy. Open a terminal (or cmd.exe in Windows) and type:\n",
    "\n",
    "    jupyter notebook\n",
    "\n",
    "This will start the notebook service and launch a web browser with Jupyter running and a directory tree, from which you can open existing notebooks or start a new one. \n",
    "\n",
    "If you are running this notebook on a university cluster computer, type `P:` before entering the `jupyter notebook` command. This moves the working directory to the P: drive, so you can keep your files after you have logged out."
   ]
  },
  {
   "cell_type": "markdown",
   "metadata": {},
   "source": [
    "### <span style=\"color: red\"> Tasks:</span> Play with this notebook "
   ]
  },
  {
   "cell_type": "markdown",
   "metadata": {},
   "source": [
    "Jupyter notebooks are made up of cells containing code which can be run in place. To edit a cell, you just double click on in. Double click on _this text_ to edit the cell. This is a Markdown cell and it uses a language called Markdown to render text. "
   ]
  },
  {
   "cell_type": "markdown",
   "metadata": {},
   "source": [
    "### <span style=\"color: red\"> Task 1:</span> Executing code cells"
   ]
  },
  {
   "cell_type": "markdown",
   "metadata": {},
   "source": [
    "Now, play around in the cells below, first by clicking on them and changing the numbers and then by adding and deleting cells. Try out the different cell types and try to use it them as a calculator. What works and what doesn't?\n",
    "\n",
    "To run a cell you are currently editing, you can click on the menu `Cell` at the top of the workbook and then `Run Cells`. Alternatively, you can run a cell by pressing <kbd>Shift</kbd> and <kbd>Enter</kbd> together. Try running this cell using both methods.\n",
    "\n",
    "Tip: Press <kbd>Esc</kbd> to enter command mode and <kbd>h</kbd> to see a cheat sheet of commands."
   ]
  },
  {
   "cell_type": "markdown",
   "metadata": {},
   "source": [
    "To run Python code, we need to use **Code cells**. The code cell below contains a simple calculation. Run the cell (by pressing <kbd>Shift</kbd> and <kbd>Enter</kbd>) to see the reult. Then modify the calculation and run it again. "
   ]
  },
  {
   "cell_type": "code",
   "execution_count": 2,
   "metadata": {},
   "outputs": [
    {
     "data": {
      "text/plain": [
       "28"
      ]
     },
     "execution_count": 2,
     "metadata": {},
     "output_type": "execute_result"
    }
   ],
   "source": [
    "3+5**2"
   ]
  },
  {
   "cell_type": "markdown",
   "metadata": {},
   "source": [
    "As you can see, using jupyter, each code cell can be used as \"calculator\". The calculation in this notebook is done using the programming language Python, which is the programming language you will use in this course. It is possible to use other languages by using other kernels. See the [Jupyter documentation](https://jupyter-notebook.readthedocs.io/en/stable/) if you are interested.\n",
    "\n",
    "With Python you can do much more than calculations, as you will find out during the course. Below is a classic first Python program with a twist. Click on the cell below and run it"
   ]
  },
  {
   "cell_type": "code",
   "execution_count": 3,
   "metadata": {},
   "outputs": [
    {
     "name": "stdout",
     "output_type": "stream",
     "text": [
      "Goodbye, Europe!\n"
     ]
    }
   ],
   "source": [
    "print(\"Goodbye, Europe!\")"
   ]
  },
  {
   "cell_type": "markdown",
   "metadata": {},
   "source": [
    "In this course you will build small Python programs to do Materials Science using the computer. This will include analysisng data and images, plotting data, using functions to fit data and more. \n",
    "\n",
    "Before moving onto that, there are afew more things about Jupyter notebooks you should try:"
   ]
  },
  {
   "cell_type": "markdown",
   "metadata": {},
   "source": [
    "### <span style=\"color: red\"> Task 2:</span> Add and delete new cells"
   ]
  },
  {
   "cell_type": "markdown",
   "metadata": {},
   "source": [
    "You can add and delete new cells by either using the menus above (`Insert -> Insert Cell Above/Below`), or by just pressing <kbd>a</kbd> for a new cell above or <kbd>b</kbd> for a new cell below. \n",
    "\n",
    "To delte cells, you can use the menu (`Edit -> Delete Cells`) or press <kbd>d</kbd> <kbd>d</kbd> (that's the key `d` twice).\n",
    "\n",
    "Try it out below:"
   ]
  },
  {
   "cell_type": "code",
   "execution_count": null,
   "metadata": {},
   "outputs": [],
   "source": []
  },
  {
   "cell_type": "code",
   "execution_count": null,
   "metadata": {},
   "outputs": [],
   "source": []
  },
  {
   "cell_type": "markdown",
   "metadata": {},
   "source": []
  },
  {
   "cell_type": "markdown",
   "metadata": {},
   "source": [
    "### <span style=\"color: red\"> Task 3:</span> Writing equations"
   ]
  },
  {
   "cell_type": "markdown",
   "metadata": {},
   "source": [
    "In the Markdown cells you can use [LaTeX](https://en.wikibooks.org/wiki/LaTeX/Mathematics) to write equations. Latex is a kind of code that helps you write equations on the computer. \n",
    "\n",
    "Double click on the cells below to see how $\\LaTeX$ works in markdown cells. Try writing your own equations!"
   ]
  },
  {
   "cell_type": "markdown",
   "metadata": {},
   "source": [
    "$y=\\frac{sin(x)^2}{x-1}$"
   ]
  },
  {
   "cell_type": "markdown",
   "metadata": {},
   "source": [
    "$y=e^{-ix}$"
   ]
  },
  {
   "cell_type": "markdown",
   "metadata": {},
   "source": [
    "$u_{t}=u_{0}+\\frac{du}{dt} t$"
   ]
  },
  {
   "cell_type": "markdown",
   "metadata": {},
   "source": [
    "### <span style=\"color: red\"> Task 4:</span> Headings and formatting"
   ]
  },
  {
   "cell_type": "markdown",
   "metadata": {},
   "source": [
    "Notebooks are documents that combine text, equations, images and code. Like all documents, they will benefit from having a clear structure which can be outlined by headings at different levels and formatted to add emphasis (make **bold** or _italic_). Edit the cell below and add your own headings at different levels. Can you make the text \"bold text\" bold instead of in italics? "
   ]
  },
  {
   "cell_type": "markdown",
   "metadata": {},
   "source": [
    "# Heading 1\n",
    "## Heading 2\n",
    "### Heading 3\n",
    "# Heading 4\n",
    "\n",
    "_bold text_"
   ]
  },
  {
   "cell_type": "markdown",
   "metadata": {},
   "source": [
    "### <span style=\"color: red\"> Task 5:</span> Including images"
   ]
  },
  {
   "cell_type": "markdown",
   "metadata": {},
   "source": [
    "It's also very easy to add images (and you can even add videos) to your notebook. Edit the cell below so it displays another image of your choosing. Cats are allowed!"
   ]
  },
  {
   "cell_type": "markdown",
   "metadata": {},
   "source": [
    "![Metamaterials](https://r.hswstatic.com/w_907/gif/tesla-cat.jpg)"
   ]
  },
  {
   "cell_type": "markdown",
   "metadata": {},
   "source": [
    "### Learning outcomes\n",
    "\n",
    "There many more things to learn about using Jupyter notebooks, but if you can:\n",
    "\n",
    "- add and delete Compute and Markdown cells\n",
    "- execute (or run) cells\n",
    "- write your own equations\n",
    "- insert images \n",
    "- do simple formatting in markdown cells\n",
    "\n",
    "then you will be able to use the notebooks to learn Python for Materials Science, and much more!"
   ]
  },
  {
   "cell_type": "code",
   "execution_count": null,
   "metadata": {},
   "outputs": [],
   "source": []
  }
 ],
 "metadata": {
  "anaconda-cloud": {},
  "kernelspec": {
   "display_name": "Python 3",
   "language": "python",
   "name": "python3"
  },
  "language_info": {
   "codemirror_mode": {
    "name": "ipython",
    "version": 3
   },
   "file_extension": ".py",
   "mimetype": "text/x-python",
   "name": "python",
   "nbconvert_exporter": "python",
   "pygments_lexer": "ipython3",
   "version": "3.6.3"
  }
 },
 "nbformat": 4,
 "nbformat_minor": 1
}
