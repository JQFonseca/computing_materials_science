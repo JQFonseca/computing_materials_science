{
 "cells": [
  {
   "cell_type": "markdown",
   "metadata": {},
   "source": [
    "# Using the Arrhenius plot to determine kinematic constants"
   ]
  },
  {
   "cell_type": "markdown",
   "metadata": {},
   "source": [
    "The purpose of this notebook is to illustrate the use of an Arrhenius plot to determine the kinetic constants and activation energy of a thermal activated process. You have probably used it before if you have done A-level Chemistry. The method is named after a physicist called [Svante Arrhenius](https://en.wikipedia.org/wiki/Svante_Arrhenius)\n",
    "\n",
    "![Svante Arrhenius](https://upload.wikimedia.org/wikipedia/commons/thumb/9/92/Svante_Arrhenius_01.jpg/381px-Svante_Arrhenius_01.jpg)\n",
    "\n",
    "This notebook follows the [Wikipedia entry](https://en.wikipedia.org/wiki/Arrhenius_plot), which is mostly correct and you can consult for more background.\n",
    "\n",
    "The example we are going to use is that of nitrogen dioxide decay:\n",
    "\n",
    "$$ 2\\,\\text{NO}_{2} \\longrightarrow 2\\, \\text{NO} + \\, \\text{O}_2$$\n",
    "\n",
    "The rates of reaction increase with temperature in a non-linear way. Experimentally determined rates at different temperatures are given in the following table:\n",
    "\n",
    "\n",
    "| Temperature ($\\mathrm{K}$)        | Rate of reaction ($10^{-4} \\mathrm{cm}^3 \\mathrm{mol}^{-1} \\mathrm{s}^{-1} $)  |\n",
    "| :-------------:|:-------------:|\n",
    "|592|5 |\n",
    "|604|8 |\n",
    "|627|17|\n",
    "|654|40|\n",
    "|656|50|\n",
    "\n",
    "If we plot these values, we can see that the rate of reaction increases with temperature:"
   ]
  },
  {
   "cell_type": "code",
   "execution_count": 1,
   "metadata": {},
   "outputs": [],
   "source": [
    "import numpy as np\n",
    "import matplotlib.pyplot as plt\n",
    "%matplotlib inline"
   ]
  },
  {
   "cell_type": "code",
   "execution_count": 2,
   "metadata": {},
   "outputs": [],
   "source": [
    "temperatures_list=[592.0,604.0,627.0,654.0,656.0]\n",
    "rates_list=[5.0,8.1,17.2,40.4,50.5]"
   ]
  },
  {
   "cell_type": "code",
   "execution_count": 3,
   "metadata": {},
   "outputs": [
    {
     "data": {
      "text/plain": [
       "(0.0, 55.0)"
      ]
     },
     "execution_count": 3,
     "metadata": {},
     "output_type": "execute_result"
    },
    {
     "data": {
      "image/png": "[encoded data removed]",
      "text/plain": [
       "<Figure size 432x288 with 1 Axes>"
      ]
     },
     "metadata": {
      "needs_background": "light"
     },
     "output_type": "display_data"
    }
   ],
   "source": [
    "plt.plot(temperatures_list,rates_list,'o')\n",
    "plt.xlabel('Temperature ($\\mathrm{K}$)')\n",
    "plt.ylabel('Rate of reaction ($10^{-4} \\mathrm{cm}^3 \\mathrm{mol}^{-1} \\mathrm{s}^{-1} $)')\n",
    "plt.ylim([0,55])"
   ]
  },
  {
   "cell_type": "markdown",
   "metadata": {},
   "source": [
    "To analyse this data, the change in rate with temperature is often modelled using the Arrhenius equation:\n",
    "\n",
    "$$k=\\mathrm{A} e^{-\\frac{\\mathrm{Q}}{\\mathrm{R}T}}$$\n",
    "\n",
    "where $k$ is the rate constant, $\\mathrm{A}$ is a constant, Q is the activation energy, $T$ is the temperature and $\\mathrm{R} = 8.314 \\mathrm{\\,J\\,K^{-1}\\,mol^{-1}}$ is the universal gas constant. \n",
    "\n",
    "We are primarily interested in determining $\\mathrm{Q}$ and $\\mathrm{A}$, which which we can then use to predict the rate of reaction at any temperature.\n",
    "\n",
    "To determine these parameters, we are going to use an Arrhenius plot. To obtain this plot, we first need to linearise the Arrhenius equation by applying $\\ln$ to each side:\n",
    "\n",
    "$$\\ln(k)=\\ln(\\mathrm{A}) -\\frac{\\mathrm{Q}}{\\mathrm{R}T}$$\n",
    "\n",
    "This can also be written as:\n",
    "\n",
    "$$\\ln(k)=\\ln(\\mathrm{A}) -\\frac{\\mathrm{Q}}{\\mathrm{R}}\\,\\frac{1}{T}$$\n",
    "\n",
    "which is the equation of a line:\n",
    "\n",
    "$$y=c+ m\\,x$$\n",
    "\n",
    "where $y=\\ln(k)$, $m=-\\frac{\\mathrm{Q}}{\\mathrm{R}}$ and $x=\\frac{1}{T}$.\n",
    "\n",
    "since we usually have several experimental points, we would to use them all to determine one set of values. In the Arrhenius plot method, we plot $y=\\ln(k)$ against $x=\\frac{1}{T}$ and then fit a straight line to the data, the slope of which can be used to determine the activation energy from $m=-\\frac{\\mathrm{Q}}{\\mathrm{R}}$. \n",
    "\n",
    "**Important:** Note that temperature is in K. If temperature is given in other units, it must first be converted into K before being used in the Arrhenius plot.\n"
   ]
  },
  {
   "cell_type": "code",
   "execution_count": 4,
   "metadata": {},
   "outputs": [],
   "source": [
    "k=np.array(rates_list)\n",
    "T=np.array(temperatures_list)\n",
    "ln_k=np.log(k)\n",
    "inv_T=1/T"
   ]
  },
  {
   "cell_type": "code",
   "execution_count": 5,
   "metadata": {},
   "outputs": [
    {
     "data": {
      "text/plain": [
       "Text(0, 0.5, 'ln (k ($10^{-4} \\\\mathrm{cm}^3 \\\\mathrm{mol}^{-1} \\\\mathrm{s}^{-1} $))')"
      ]
     },
     "execution_count": 5,
     "metadata": {},
     "output_type": "execute_result"
    },
    {
     "data": {
      "image/png": "[encoded data removed]",
      "text/plain": [
       "<Figure size 432x288 with 1 Axes>"
      ]
     },
     "metadata": {
      "needs_background": "light"
     },
     "output_type": "display_data"
    }
   ],
   "source": [
    "plt.plot(inv_T,ln_k,'o')\n",
    "plt.xlabel('1/T ($\\mathrm{K^{-1}}$)')\n",
    "plt.ylabel('ln (k ($10^{-4} \\mathrm{cm}^3 \\mathrm{mol}^{-1} \\mathrm{s}^{-1} $))')"
   ]
  },
  {
   "cell_type": "markdown",
   "metadata": {},
   "source": [
    "Although the plot is not a perfect straight line, the relationship is clearly linear. Next we need to fit a straight line to the plot. We will use the `curve_fit` function but there are a couple of other functions available to fit a straight line. "
   ]
  },
  {
   "cell_type": "code",
   "execution_count": 6,
   "metadata": {},
   "outputs": [],
   "source": [
    "from scipy.optimize import curve_fit"
   ]
  },
  {
   "cell_type": "markdown",
   "metadata": {},
   "source": [
    "Define the function for the line:"
   ]
  },
  {
   "cell_type": "code",
   "execution_count": 7,
   "metadata": {},
   "outputs": [],
   "source": [
    "def line(x,m,c):\n",
    "    y=m*x+c\n",
    "    return y"
   ]
  },
  {
   "cell_type": "markdown",
   "metadata": {},
   "source": [
    "Fit the data:"
   ]
  },
  {
   "cell_type": "code",
   "execution_count": 8,
   "metadata": {},
   "outputs": [],
   "source": [
    "fit_params=curve_fit(line,inv_T,ln_k)"
   ]
  },
  {
   "cell_type": "markdown",
   "metadata": {},
   "source": [
    "Get the fit parameters from the returned arrays:"
   ]
  },
  {
   "cell_type": "code",
   "execution_count": 9,
   "metadata": {},
   "outputs": [],
   "source": [
    "m=fit_params[0][0]\n",
    "c=fit_params[0][1]"
   ]
  },
  {
   "cell_type": "markdown",
   "metadata": {},
   "source": [
    "Create rate values use fit parameters to check the fit:"
   ]
  },
  {
   "cell_type": "code",
   "execution_count": 10,
   "metadata": {},
   "outputs": [],
   "source": [
    "ln_k_fit=line(inv_T,m,c)"
   ]
  },
  {
   "cell_type": "code",
   "execution_count": 11,
   "metadata": {},
   "outputs": [
    {
     "data": {
      "text/plain": [
       "Text(0, 0.5, 'log (k ($10^{-4} \\\\mathrm{cm}^3 \\\\mathrm{mol}^{-1} \\\\mathrm{s}^{-1} $))')"
      ]
     },
     "execution_count": 11,
     "metadata": {},
     "output_type": "execute_result"
    },
    {
     "data": {
      "image/png": "[encoded data removed]",
      "text/plain": [
       "<Figure size 432x288 with 1 Axes>"
      ]
     },
     "metadata": {
      "needs_background": "light"
     },
     "output_type": "display_data"
    }
   ],
   "source": [
    "plt.plot(inv_T,ln_k,'bo--')\n",
    "plt.plot(inv_T,ln_k_fit,'y',lw=2)\n",
    "plt.xlabel('1/T ($\\mathrm{K^{-1}}$)')\n",
    "plt.ylabel('log (k ($10^{-4} \\mathrm{cm}^3 \\mathrm{mol}^{-1} \\mathrm{s}^{-1} $))')"
   ]
  },
  {
   "cell_type": "markdown",
   "metadata": {},
   "source": [
    "The fit is a good one so we can go ahead and calculate Q and A."
   ]
  },
  {
   "cell_type": "code",
   "execution_count": 12,
   "metadata": {},
   "outputs": [
    {
     "name": "stdout",
     "output_type": "stream",
     "text": [
      "Q = 112.11 x 10^3 J mol^-1\n",
      "A = 3.91 x 10^10\n"
     ]
    }
   ],
   "source": [
    "Q=-8.314*m\n",
    "A=np.exp(c)\n",
    "\n",
    "print('Q = {:2.2f} x 10^3 J mol^-1'.format(Q/(10**3)))\n",
    "print('A = {:2.2f} x 10^10'.format(A/(10**10)))"
   ]
  },
  {
   "cell_type": "markdown",
   "metadata": {},
   "source": [
    "Thus our rate equation for this reaction is:\n",
    "    \n",
    "$$k=3.91\\times10^{10} e^{-\\dfrac{112.11\\times10^{3}}{\\mathrm{R}T}}$$\n",
    "\n",
    "This can now be used to predict the rate at any temperature.\n",
    "\n",
    "We can compile these steps into one function, which together with the line function above can be reused in another notebook:"
   ]
  },
  {
   "cell_type": "code",
   "execution_count": 13,
   "metadata": {},
   "outputs": [],
   "source": [
    "def arrhenius(k_vals,T_vals):\n",
    "    ''' Arrhenius method for kinematic constants\n",
    "    inputs:\n",
    "    k_vals -- rates of reaction in 10^−4 cm^3 mol^−1 s^−1\n",
    "    T_vals -- temperature in K\n",
    "    returns:\n",
    "    A -- pre-exponential factor\n",
    "    Q -- Activation energy in J mol^-1\n",
    "    '''\n",
    "    k=np.array(k_vals)\n",
    "    T=np.array(T_vals)\n",
    "    ln_k=np.log(k)\n",
    "    inv_T=1/T\n",
    "    fit_params=curve_fit(line,inv_T,ln_k)\n",
    "    m=fit_params[0][0]\n",
    "    c=fit_params[0][1]\n",
    "    Q=-8.314*m\n",
    "    A=np.exp(c)\n",
    "    print('Q = {:2.2f} x 10^3 J mol^-1'.format(Q/(10**3)))\n",
    "    print('A = {:2.2f} x 10^10'.format(A/(10**10)))\n",
    "    return A,Q"
   ]
  },
  {
   "cell_type": "markdown",
   "metadata": {},
   "source": [
    "Testing the function:"
   ]
  },
  {
   "cell_type": "code",
   "execution_count": 14,
   "metadata": {},
   "outputs": [
    {
     "name": "stdout",
     "output_type": "stream",
     "text": [
      "Q = 112.11 x 10^3 J mol^-1\n",
      "A = 3.91 x 10^10\n"
     ]
    }
   ],
   "source": [
    "A_f,Q_f=arrhenius(rates_list,temperatures_list)"
   ]
  },
  {
   "cell_type": "markdown",
   "metadata": {},
   "source": [
    "Finally, we will just check if the new equation fits the original data well:"
   ]
  },
  {
   "cell_type": "code",
   "execution_count": 15,
   "metadata": {},
   "outputs": [
    {
     "data": {
      "text/plain": [
       "<matplotlib.legend.Legend at 0x7fce41770590>"
      ]
     },
     "execution_count": 15,
     "metadata": {},
     "output_type": "execute_result"
    },
    {
     "data": {
      "image/png": "[encoded data removed]",
      "text/plain": [
       "<Figure size 432x288 with 1 Axes>"
      ]
     },
     "metadata": {
      "needs_background": "light"
     },
     "output_type": "display_data"
    }
   ],
   "source": [
    "T=np.linspace(550,700)\n",
    "k_fit=A_f*np.exp(-Q_f/(8.314*T)) #using the output of thr arrhenius function\n",
    "plt.plot(temperatures_list,rates_list,'o--')\n",
    "plt.plot(T,k_fit,'y',lw=2)\n",
    "plt.xlabel('Temperature ($\\mathrm{K}$)')\n",
    "plt.ylabel('Rate of reaction ($10^{-4} \\mathrm{cm}^3 \\mathrm{mol}^{-1} \\mathrm{s}^{-1} $)')\n",
    "plt.legend(('Experiment','Model'),loc=0)"
   ]
  },
  {
   "cell_type": "markdown",
   "metadata": {},
   "source": [
    "Pretty good."
   ]
  }
 ],
 "metadata": {
  "anaconda-cloud": {},
  "kernelspec": {
   "display_name": "Python 3",
   "language": "python",
   "name": "python3"
  },
  "language_info": {
   "codemirror_mode": {
    "name": "ipython",
    "version": 3
   },
   "file_extension": ".py",
   "mimetype": "text/x-python",
   "name": "python",
   "nbconvert_exporter": "python",
   "pygments_lexer": "ipython3",
   "version": "3.7.9"
  }
 },
 "nbformat": 4,
 "nbformat_minor": 1
}
