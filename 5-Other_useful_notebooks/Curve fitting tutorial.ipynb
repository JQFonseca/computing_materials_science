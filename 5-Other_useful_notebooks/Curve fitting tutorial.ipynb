{
 "cells": [
  {
   "cell_type": "markdown",
   "metadata": {},
   "source": [
    "## Tutorial on the use of <code>curve_fit</code> from the <code>scipy.optimize package</code>\n",
    "\n",
    "The abilility to use a mathematical function to represent data (curve or line fitting) is a powerful tool for materials scientists because it makes it possible to use results from experiments, which always contain some uncertainty, to obtain parameters which describe the materials we want to study.\n",
    "\n",
    "There are several curve fitting functions in the scientific python stack. This is a tutorial on using the <code>curve_fit</code> function from <code>scipy.optimize</code> to fit one dimensional data."
   ]
  },
  {
   "cell_type": "code",
   "execution_count": 1,
   "metadata": {},
   "outputs": [],
   "source": [
    "# import modules\n",
    "import numpy as np\n",
    "import matplotlib.pyplot as plt\n",
    "import random\n",
    "%matplotlib inline"
   ]
  },
  {
   "cell_type": "markdown",
   "metadata": {},
   "source": [
    "We need some data to start things off. Usually we measure a quantity ($y$) whilst varying a condition ($x$): for example, we might measure the length at different temperatures, the length of a rubber band at different applied forces, the voltage as a function of current etc. \n",
    "\n",
    "To keep things simple we are going to create our own simulated dataset. We start off creating an array of 100 $x$ values using <code>np.linspace</code>:"
   ]
  },
  {
   "cell_type": "code",
   "execution_count": 2,
   "metadata": {},
   "outputs": [],
   "source": [
    "xVariable= np.linspace(0,100,101) #np.linspace(start,stop,N) creates an array of N evenly spaced numbers in the interval [start,stop]"
   ]
  },
  {
   "cell_type": "markdown",
   "metadata": {},
   "source": [
    "Next we need a number of measurements. Lets make them equal to $x$, with some \"experimental\" random noise added: "
   ]
  },
  {
   "cell_type": "code",
   "execution_count": 3,
   "metadata": {},
   "outputs": [],
   "source": [
    "yMeasurements=(np.random.normal(xVariable,5)) #this adds noise with a standard deviation of 5"
   ]
  },
  {
   "cell_type": "markdown",
   "metadata": {},
   "source": [
    "Let's plot our simulated data:"
   ]
  },
  {
   "cell_type": "code",
   "execution_count": 4,
   "metadata": {},
   "outputs": [
    {
     "data": {
      "image/png": "[encoded data removed]",
      "text/plain": [
       "<Figure size 432x288 with 1 Axes>"
      ]
     },
     "metadata": {
      "needs_background": "light"
     },
     "output_type": "display_data"
    }
   ],
   "source": [
    "plt.scatter(xVariable,yMeasurements)\n",
    "plt.xlabel('$x$')\n",
    "plt.ylabel('$y$');"
   ]
  },
  {
   "cell_type": "markdown",
   "metadata": {},
   "source": [
    "We can see from the plot that the data are distributed along a line. The equation for a line is:\n",
    "$y=m x+c$. Let's use <code>curve_fit</code> to find the values of $m$ and $c$ that best fit our data.\n",
    "\n",
    "First we define the function using the equation for the line:"
   ]
  },
  {
   "cell_type": "code",
   "execution_count": 5,
   "metadata": {},
   "outputs": [],
   "source": [
    "def yfunc(x,c,m): # y is a function of (x and has parameters c and m)\n",
    "    return m*x+c # this is how you calculate y"
   ]
  },
  {
   "cell_type": "markdown",
   "metadata": {},
   "source": [
    "Now we import the function and we run it:"
   ]
  },
  {
   "cell_type": "code",
   "execution_count": 6,
   "metadata": {},
   "outputs": [],
   "source": [
    "from scipy.optimize import curve_fit\n",
    "pars,cov=curve_fit(yfunc,xVariable,yMeasurements) "
   ]
  },
  {
   "cell_type": "markdown",
   "metadata": {},
   "source": [
    "<code>curve_fit</code> returns a set of parameters (`c` and `m` in order as in `yfunc(x,`**c, m**`)`), which we have assigned to <code>pars</code> and a measure of how good the fit is (<code>cov</code>). Lets's see what values were calculated: "
   ]
  },
  {
   "cell_type": "code",
   "execution_count": 7,
   "metadata": {},
   "outputs": [
    {
     "name": "stdout",
     "output_type": "stream",
     "text": [
      "[-0.86196995  1.03148988]\n",
      "[[ 9.08013085e-01 -1.35524340e-02]\n",
      " [-1.35524340e-02  2.71048678e-04]]\n"
     ]
    }
   ],
   "source": [
    "print(pars)\n",
    "print(cov)"
   ]
  },
  {
   "cell_type": "markdown",
   "metadata": {},
   "source": [
    "For now we can ignore <code>cov</code>. The fit has calculated c and m (saved in pars) and can now plot the line given by these parameters:"
   ]
  },
  {
   "cell_type": "code",
   "execution_count": 8,
   "metadata": {},
   "outputs": [
    {
     "name": "stdout",
     "output_type": "stream",
     "text": [
      "m = 1.0314898829413344\n",
      "c = -0.8619699529747222\n",
      "y = 1.0314898829413344x +-0.8619699529747222\n"
     ]
    }
   ],
   "source": [
    "m=pars[1]\n",
    "c=pars[0]\n",
    "yFit=m*xVariable+c\n",
    "\n",
    "print('m = ' + str(m))\n",
    "print('c = ' + str(c))\n",
    "print('y = ' + str(m) + 'x +' + str(c))"
   ]
  },
  {
   "cell_type": "code",
   "execution_count": 9,
   "metadata": {
    "scrolled": true
   },
   "outputs": [
    {
     "data": {
      "image/png": "[encoded data removed]",
      "text/plain": [
       "<Figure size 432x288 with 1 Axes>"
      ]
     },
     "metadata": {
      "needs_background": "light"
     },
     "output_type": "display_data"
    }
   ],
   "source": [
    "plt.plot(xVariable,yMeasurements,'o') #plot of initial data\n",
    "plt.plot(xVariable,yFit,'-r')         #plot of fitted function. \n",
    "plt.xlabel('$x$')\n",
    "plt.ylabel('$y$');"
   ]
  },
  {
   "cell_type": "markdown",
   "metadata": {},
   "source": [
    "As you can see, it's a pretty good fit!"
   ]
  },
  {
   "cell_type": "markdown",
   "metadata": {},
   "source": [
    "This is an easy fit so we don't need to give any starting guesses. But sometimes we need to help the fit with a guess. We do this with the argument <code>p0</code>:"
   ]
  },
  {
   "cell_type": "code",
   "execution_count": 10,
   "metadata": {},
   "outputs": [],
   "source": [
    "c_guess=0\n",
    "m_guess=10\n",
    "pars,cov=curve_fit(yfunc,xVariable,yMeasurements,p0=[c_guess,m_guess])"
   ]
  },
  {
   "cell_type": "markdown",
   "metadata": {},
   "source": [
    "**It's important to make sure that the guesses appear in <code>p0</code> in the same order as they appear in <code>yfunc</code>!**"
   ]
  }
 ],
 "metadata": {
  "kernelspec": {
   "display_name": "Python 3",
   "language": "python",
   "name": "python3"
  },
  "language_info": {
   "codemirror_mode": {
    "name": "ipython",
    "version": 3
   },
   "file_extension": ".py",
   "mimetype": "text/x-python",
   "name": "python",
   "nbconvert_exporter": "python",
   "pygments_lexer": "ipython3",
   "version": "3.7.9"
  }
 },
 "nbformat": 4,
 "nbformat_minor": 1
}
