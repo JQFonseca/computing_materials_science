{
 "cells": [
  {
   "cell_type": "markdown",
   "metadata": {},
   "source": [
    "<br/>\n",
    "<span style=\"font-size:40pt\">Cheatsheet!\n",
    "</span>\n",
    "<span style=\"font-size:10pt\">😎\n",
    "</span>\n",
    "<br/>\n",
    "###### <span style=\"color:darkgray\">Authors:</span> <span style=\"color:gray\">Adam Plowman</span> <span style=\"color:darkgray\">and</span> <span style=\"color:gray\">Maria Yankova</span>"
   ]
  },
  {
   "cell_type": "markdown",
   "metadata": {},
   "source": [
    "# The Jupyter Notebook\n",
    "\n",
    "### How to start a Jupyter notebook\n",
    "1. Open a terminal\n",
    "   - In Windows: press the Windows key, then type `cmd` and press `Enter`.\n",
    "   - On a Mac, type `terminal` in spotlight and press `Enter`.\n",
    "2. Type `jupyter notebook` and press `Enter`\n",
    "\n",
    "### Cells\n",
    "A Jupyter notebook consists of cells.\n",
    "* **Create a new cell**: click on the plus icon  <img src=\"https://www.dropbox.com/s/nmctihrfc076dg8/jupyter_newcell.png?dl=1\" style=\"display:inline\" /> \n",
    "* **Delete a cell**: click on the scissors icon  <img src=\"https://www.dropbox.com/s/uxdudjxp3xya20a/jupyter_delcell.png?dl=1\" style=\"display:inline\" />\n",
    "* **Edit a cell**: double click on the cell to enter edit mode.\n",
    "* **Evaluate a cell**: press `Shift` + `Enter`.\n",
    "\n",
    "There a two different types of cells:\n",
    "* *Code* cells - in these, you can type programming code (such as Python code)\n",
    "* Text cells (using something called *Markdown*)\n",
    "\n",
    "The cell type can be changed between *Code* and *Markdown* using the dropdown box at the top."
   ]
  },
  {
   "cell_type": "markdown",
   "metadata": {},
   "source": [
    "#  Python\n",
    "## 0. Some helpful ideas\n",
    "**Modules**\n",
    "\n",
    "Sometimes we need to add extra bits of functionality to Python which aren't available by default. An example we use here is called the Numpy package. To use the Numpy package, we *import* it, like this:"
   ]
  },
  {
   "cell_type": "code",
   "execution_count": 1,
   "metadata": {
    "collapsed": true
   },
   "outputs": [],
   "source": [
    "import numpy as np"
   ]
  },
  {
   "cell_type": "markdown",
   "metadata": {},
   "source": [
    "By typing the `as np` part, we can save ourselves some typing whenever we want to use Numpy later in our code.\n",
    "\n",
    "** Comments **\n",
    "\n",
    "Comments are a way of helping you and other people understand your code. Comments are ignored by Python when your code is evaluated and so you can add explanations of what your code is doing in normal language like this:"
   ]
  },
  {
   "cell_type": "code",
   "execution_count": 2,
   "metadata": {
    "collapsed": true
   },
   "outputs": [],
   "source": [
    "# here we assign a variable age to the number 10:\n",
    "age = 10 "
   ]
  },
  {
   "cell_type": "markdown",
   "metadata": {},
   "source": [
    "We use the `#` symbol to tell Python that the whole line is a comment. Notice also that the Jupyter notebook helpfully changes the colour of comment lines. "
   ]
  },
  {
   "cell_type": "markdown",
   "metadata": {},
   "source": [
    "**Indentation**\n",
    "\n",
    "In Python, we use indentation to organise different sections of code. In the example below, `print('True')` is part of the `if` statement (see section 4.) and so its execution depends on whether `1 < 4` is true. On the other hand, the  `print('Hello')` statement is independent of the `if` statement and always executes."
   ]
  },
  {
   "cell_type": "code",
   "execution_count": 3,
   "metadata": {
    "collapsed": false
   },
   "outputs": [
    {
     "name": "stdout",
     "output_type": "stream",
     "text": [
      "True\n",
      "Hello\n"
     ]
    }
   ],
   "source": [
    "if 1 < 4:\n",
    "    print('True')\n",
    "    \n",
    "print('Hello')"
   ]
  },
  {
   "cell_type": "markdown",
   "metadata": {},
   "source": [
    "There are many examples in Python of using a colon `:` followed by an indented block of code. See section 4. (`if` statements), section 5. (`for` loops) and section 6. (Functions). Without indentation, Python will complain! See how this **does not work**:"
   ]
  },
  {
   "cell_type": "code",
   "execution_count": 4,
   "metadata": {
    "collapsed": false
   },
   "outputs": [
    {
     "ename": "IndentationError",
     "evalue": "expected an indented block (<ipython-input-4-c6a3a4a6287d>, line 2)",
     "output_type": "error",
     "traceback": [
      "\u001b[0;36m  File \u001b[0;32m\"<ipython-input-4-c6a3a4a6287d>\"\u001b[0;36m, line \u001b[0;32m2\u001b[0m\n\u001b[0;31m    print('True')\u001b[0m\n\u001b[0m        ^\u001b[0m\n\u001b[0;31mIndentationError\u001b[0m\u001b[0;31m:\u001b[0m expected an indented block\n"
     ]
    }
   ],
   "source": [
    "if 1 < 4:\n",
    "print('True')"
   ]
  },
  {
   "cell_type": "markdown",
   "metadata": {},
   "source": [
    "** Getting help **\n",
    "\n",
    "You can find the documentation for Python functions by typing the function name, followed by a question mark, like this:\n"
   ]
  },
  {
   "cell_type": "code",
   "execution_count": 5,
   "metadata": {
    "collapsed": true
   },
   "outputs": [],
   "source": [
    "print?"
   ]
  },
  {
   "cell_type": "markdown",
   "metadata": {},
   "source": [
    "If you want to know how to do something in Python, it's always a good idea to search Google."
   ]
  },
  {
   "cell_type": "markdown",
   "metadata": {},
   "source": [
    "## 1. Variables\n",
    "Take a look at this simple Python code:"
   ]
  },
  {
   "cell_type": "code",
   "execution_count": 6,
   "metadata": {
    "collapsed": true
   },
   "outputs": [],
   "source": [
    "a = 4"
   ]
  },
  {
   "cell_type": "markdown",
   "metadata": {},
   "source": [
    "This is called variable assignment. We *assign* the value `4` to the variable named `a`. Practically, variables names are usually more descriptive than a single letter.\n",
    "\n",
    "Variables don't have to be integer numbers, they can have many different types, such as:\n",
    "* decimal numbers (known as floats)\n",
    "* text (known as strings)\n",
    "* True or False (known as booleans)\n",
    "\n",
    "Some examples of using different variable types are below. Here, we are describing some information about a person called Bob. We are also showing the type of the variable after assigning a value to it."
   ]
  },
  {
   "cell_type": "code",
   "execution_count": 7,
   "metadata": {
    "collapsed": false
   },
   "outputs": [
    {
     "data": {
      "text/plain": [
       "str"
      ]
     },
     "execution_count": 7,
     "metadata": {},
     "output_type": "execute_result"
    }
   ],
   "source": [
    "bob_name = 'Bob'\n",
    "type(bob_name)"
   ]
  },
  {
   "cell_type": "code",
   "execution_count": 8,
   "metadata": {
    "collapsed": false
   },
   "outputs": [
    {
     "data": {
      "text/plain": [
       "int"
      ]
     },
     "execution_count": 8,
     "metadata": {},
     "output_type": "execute_result"
    }
   ],
   "source": [
    "bob_age = 7\n",
    "type(bob_age)"
   ]
  },
  {
   "cell_type": "code",
   "execution_count": 9,
   "metadata": {
    "collapsed": false
   },
   "outputs": [
    {
     "data": {
      "text/plain": [
       "float"
      ]
     },
     "execution_count": 9,
     "metadata": {},
     "output_type": "execute_result"
    }
   ],
   "source": [
    "bob_height = 1.5\n",
    "type(bob_height)"
   ]
  },
  {
   "cell_type": "code",
   "execution_count": 10,
   "metadata": {
    "collapsed": false
   },
   "outputs": [
    {
     "data": {
      "text/plain": [
       "bool"
      ]
     },
     "execution_count": 10,
     "metadata": {},
     "output_type": "execute_result"
    }
   ],
   "source": [
    "bob_blue_eyes = True\n",
    "type(bob_blue_eyes)"
   ]
  },
  {
   "cell_type": "markdown",
   "metadata": {},
   "source": [
    "**Testing for equality**\n",
    "\n",
    "Above, we assigned values to some variables using a single equal sign `=`. \n",
    "\n",
    "When we want to check if a variable is equal to something, we use a double equal sign `==` like this:"
   ]
  },
  {
   "cell_type": "code",
   "execution_count": 11,
   "metadata": {
    "collapsed": false
   },
   "outputs": [
    {
     "data": {
      "text/plain": [
       "False"
      ]
     },
     "execution_count": 11,
     "metadata": {},
     "output_type": "execute_result"
    }
   ],
   "source": [
    "# Testing for equality with two equal signs\n",
    "bob_age == 5"
   ]
  },
  {
   "cell_type": "markdown",
   "metadata": {},
   "source": [
    "The result from the equality test is either `True` or `False` depending on whether the condition is met, `False` in this case. Notice how this is different to variable assignment, which uses one equal sign."
   ]
  },
  {
   "cell_type": "code",
   "execution_count": 12,
   "metadata": {
    "collapsed": true
   },
   "outputs": [],
   "source": [
    "# Assigning Anna's age to a variable with a single equal sign\n",
    "anna_age = 5"
   ]
  },
  {
   "cell_type": "markdown",
   "metadata": {},
   "source": [
    "## 2. Lists "
   ]
  },
  {
   "cell_type": "markdown",
   "metadata": {},
   "source": [
    "A list is another type of variable. Lists are sequences of objects. Here is an example of a list, which we have named `my_list`:"
   ]
  },
  {
   "cell_type": "code",
   "execution_count": 13,
   "metadata": {
    "collapsed": false
   },
   "outputs": [
    {
     "data": {
      "text/plain": [
       "list"
      ]
     },
     "execution_count": 13,
     "metadata": {},
     "output_type": "execute_result"
    }
   ],
   "source": [
    "my_list = [2, 4, 6, 8, 10]\n",
    "type(my_list)"
   ]
  },
  {
   "cell_type": "markdown",
   "metadata": {},
   "source": [
    "Lists are created using square brackets. Commas are used to separate the elements of the list. \n",
    "\n",
    "List elements don't have to all be the same type:"
   ]
  },
  {
   "cell_type": "code",
   "execution_count": 14,
   "metadata": {
    "collapsed": true
   },
   "outputs": [],
   "source": [
    "my_second_list = ['this is a string!', 9.4, True, 18]"
   ]
  },
  {
   "cell_type": "markdown",
   "metadata": {},
   "source": [
    "In fact, lists can contain variables which we've previously assigned:"
   ]
  },
  {
   "cell_type": "code",
   "execution_count": 17,
   "metadata": {
    "collapsed": false
   },
   "outputs": [
    {
     "name": "stdout",
     "output_type": "stream",
     "text": [
      "['Bob', 7, 1.5, True]\n"
     ]
    }
   ],
   "source": [
    "person_info = [bob_name, bob_age, bob_height, bob_blue_eyes]\n",
    "\n",
    "print(person_info)"
   ]
  },
  {
   "cell_type": "markdown",
   "metadata": {},
   "source": [
    "### 2.1 Indexing and slicing\n",
    "We can access the elements of a list by indexing and slicing. To get the first element of a list we do this:"
   ]
  },
  {
   "cell_type": "code",
   "execution_count": 18,
   "metadata": {
    "collapsed": false
   },
   "outputs": [
    {
     "data": {
      "text/plain": [
       "2"
      ]
     },
     "execution_count": 18,
     "metadata": {},
     "output_type": "execute_result"
    }
   ],
   "source": [
    "my_list[0]"
   ]
  },
  {
   "cell_type": "markdown",
   "metadata": {},
   "source": [
    "This is called indexing. Notice how indexing starts at zero and not one! If we want multiple elements, we use slicing. Let's say we want the second, third and fourth elements:"
   ]
  },
  {
   "cell_type": "code",
   "execution_count": 19,
   "metadata": {
    "collapsed": false
   },
   "outputs": [
    {
     "data": {
      "text/plain": [
       "[4, 6, 8]"
      ]
     },
     "execution_count": 19,
     "metadata": {},
     "output_type": "execute_result"
    }
   ],
   "source": [
    "my_list[1:4]"
   ]
  },
  {
   "cell_type": "markdown",
   "metadata": {},
   "source": [
    "The `1:4` in the square brackets means get all the elements with indices from `1` (inclusive) to `4` (exclusive). Some more examples of slicing are shown in the table below, where coloured blocks represent the elements we get from each slicing example.\n",
    "<table>\n",
    "<tr>\n",
    "<td rowspan=\"2\" style=\"padding:1em\">`my_list`<br /> element</td>\n",
    "<td rowspan=\"2\" style=\"padding:1em\">Index</td>\n",
    "<td colspan=\"6\" style=\"padding:1em; text-align:center\">Slicing examples</td>\n",
    "</tr>\n",
    "<tr>\n",
    "<td style=\"padding:1em\">`my_list[1:4]`</td>\n",
    "<td style=\"padding:1em\">`my_list[0:1]`</td>\n",
    "<td style=\"padding:1em\">`my_list[2:]`</td>\n",
    "<td style=\"padding:1em\">`my_list[:3]`</td>\n",
    "<td style=\"padding:1em\">`my_list[:-2]`</td>\n",
    "<td style=\"padding:1em\">`my_list[::2]`</td>\n",
    "</tr>\n",
    "<tr>\n",
    "    <td style=\"text-align:center\">2</td>\n",
    "    <td style=\"text-align:center\">0</td>\n",
    "    <td></td>\n",
    "    <td style=\"background-color:lightpink\"></td>\n",
    "    <td></td>\n",
    "    <td style=\"background-color:lightseagreen\"></td>\n",
    "    <td style=\"background-color:lightsteelblue\"></td>\n",
    "    <td style=\"background-color:lightskyblue\"></td>\n",
    "</tr>\n",
    "<tr>\n",
    "    <td style=\"text-align:center\">4</td>\n",
    "    <td style=\"text-align:center\">1</td>\n",
    "    <td style=\"background-color:lightblue\"></td>\n",
    "    <td></td>\n",
    "    <td></td>\n",
    "    <td style=\"background-color:lightseagreen\"></td>\n",
    "    <td style=\"background-color:lightsteelblue\"></td>\n",
    "    <td></td>\n",
    "</tr>\n",
    "<tr>\n",
    "    <td style=\"text-align:center\">6</td>\n",
    "    <td style=\"text-align:center\">2</td>\n",
    "    <td style=\"background-color:lightblue\"></td>\n",
    "    <td></td>\n",
    "    <td style=\"background-color:lightsalmon\"></td>\n",
    "    <td style=\"background-color:lightseagreen\"></td>\n",
    "    <td style=\"background-color:lightsteelblue\"></td>\n",
    "    <td style=\"background-color:lightskyblue\"></td>\n",
    "</tr>\n",
    "<tr>\n",
    "    <td style=\"text-align:center\">8</td>\n",
    "    <td style=\"text-align:center\">3</td>\n",
    "    <td style=\"background-color:lightblue\"></td>\n",
    "    <td></td>\n",
    "    <td style=\"background-color:lightsalmon\"></td>\n",
    "    <td></td>\n",
    "    <td></td>\n",
    "    <td></td>    \n",
    "</tr>\n",
    "<tr>\n",
    "    <td style=\"text-align:center\">10</td>\n",
    "    <td style=\"text-align:center\">4</td>\n",
    "    <td></td>\n",
    "    <td></td>\n",
    "    <td style=\"background-color:lightsalmon\"></td>\n",
    "    <td></td>\n",
    "    <td></td>\n",
    "    <td style=\"background-color:lightskyblue\"></td>    \n",
    "</tr>\n",
    "</table>\n",
    "<br/>\n",
    "<br/>\n",
    "Some things to notice about slicing:\n",
    "* Omitting an index before the colon is the same as using a zero. E.g. `my_list[:3]` is the same as `my_list[0:3]`.\n",
    "* We can use negative indices after the colon to count back from the end of a list.\n",
    "* Slices always return a list, so `my_list[0:1]` is a list with a single element at index `0`."
   ]
  },
  {
   "cell_type": "markdown",
   "metadata": {},
   "source": [
    "### 2.1 Add elements to a list\n",
    "To add a new element to the end of a list:"
   ]
  },
  {
   "cell_type": "code",
   "execution_count": 20,
   "metadata": {
    "collapsed": false
   },
   "outputs": [
    {
     "name": "stdout",
     "output_type": "stream",
     "text": [
      "[2, 4, 6, 8, 10, 'a new element!']\n"
     ]
    }
   ],
   "source": [
    "my_list.append('a new element!')\n",
    "print(my_list)"
   ]
  },
  {
   "cell_type": "markdown",
   "metadata": {},
   "source": [
    "### 2.2 Remove elements from a list\n",
    "To remove the element with index 3:"
   ]
  },
  {
   "cell_type": "code",
   "execution_count": 21,
   "metadata": {
    "collapsed": false
   },
   "outputs": [
    {
     "name": "stdout",
     "output_type": "stream",
     "text": [
      "[2, 4, 6, 10, 'a new element!']\n"
     ]
    }
   ],
   "source": [
    "my_list.pop(3)\n",
    "print(my_list)"
   ]
  },
  {
   "cell_type": "markdown",
   "metadata": {},
   "source": [
    "### 2.3 Finding the length of a list"
   ]
  },
  {
   "cell_type": "code",
   "execution_count": 22,
   "metadata": {
    "collapsed": false
   },
   "outputs": [
    {
     "data": {
      "text/plain": [
       "5"
      ]
     },
     "execution_count": 22,
     "metadata": {},
     "output_type": "execute_result"
    }
   ],
   "source": [
    "len(my_list)"
   ]
  },
  {
   "cell_type": "markdown",
   "metadata": {},
   "source": [
    "## 3. Arrays\n",
    "Arrays are like lists, but can be multi-dimensional. A matrix in maths can be considered to be a two-dimensional (2D) array. Here is an example of a 2D array, using the Numpy package (referenced here as `np`) which we previously imported:"
   ]
  },
  {
   "cell_type": "code",
   "execution_count": 23,
   "metadata": {
    "collapsed": false
   },
   "outputs": [
    {
     "name": "stdout",
     "output_type": "stream",
     "text": [
      "[[1 2 3]\n",
      " [4 5 6]\n",
      " [7 8 9]]\n"
     ]
    }
   ],
   "source": [
    "my_array = np.array([[1,2,3], [4,5,6], [7,8,9]])\n",
    "print(my_array)"
   ]
  },
  {
   "cell_type": "markdown",
   "metadata": {},
   "source": [
    "### 3.1 Indexing and slicing\n",
    "Indexing and slicing works for arrays in the same way as for lists. The only difference is that we use commas to separate each dimension we want to index. For instance, we index a 2D array like this: `my_array[row_index, column_index]`, where `row_index` and `column_index` are each just like the indices (or slices) we used for lists. Rows and columns are indexed like this: ![rowcol](https://www.dropbox.com/s/u6n2yi0me2xye2m/xy-rowcol.png?dl=1)\n",
    "\n",
    "So to get the array element in the first row and third column, we do this:"
   ]
  },
  {
   "cell_type": "code",
   "execution_count": 24,
   "metadata": {
    "collapsed": false
   },
   "outputs": [
    {
     "data": {
      "text/plain": [
       "3"
      ]
     },
     "execution_count": 24,
     "metadata": {},
     "output_type": "execute_result"
    }
   ],
   "source": [
    "my_array[0, 2]"
   ]
  },
  {
   "cell_type": "markdown",
   "metadata": {},
   "source": [
    "We can slice arrays just like lists. For instance, to get the first row of the array, the row index would be `0` and the column index would be a slice `0:3` to get all columns."
   ]
  },
  {
   "cell_type": "code",
   "execution_count": 25,
   "metadata": {
    "collapsed": false
   },
   "outputs": [
    {
     "data": {
      "text/plain": [
       "array([1, 2, 3])"
      ]
     },
     "execution_count": 25,
     "metadata": {},
     "output_type": "execute_result"
    }
   ],
   "source": [
    "my_array[0, 0:3]"
   ]
  },
  {
   "cell_type": "markdown",
   "metadata": {},
   "source": [
    "In practice, we can simply use a colon `:` instead of `0:3` to get all elements along a particular dimension:"
   ]
  },
  {
   "cell_type": "code",
   "execution_count": 26,
   "metadata": {
    "collapsed": false
   },
   "outputs": [
    {
     "data": {
      "text/plain": [
       "array([1, 2, 3])"
      ]
     },
     "execution_count": 26,
     "metadata": {},
     "output_type": "execute_result"
    }
   ],
   "source": [
    "my_array[0, :]"
   ]
  },
  {
   "cell_type": "markdown",
   "metadata": {},
   "source": [
    "### 3.2 Adding and removing elements from arrays\n",
    "Once a Numpy array is created, it's impossible to add or remove elements from it. (There are ways to effectively do this, but generally they are inefficient - Google *array concatenation in numpy*.) Therefore, we tend to first create an array which has the correct size, and then later worry about filling it up with data, as seen in the next sub-section."
   ]
  },
  {
   "cell_type": "markdown",
   "metadata": {},
   "source": [
    "### 3.3 Creating arrays \n",
    "\n",
    "Arrays are always created with a specific size (i.e. number of rows and columns).\n",
    "\n",
    "**An array filled with given data**"
   ]
  },
  {
   "cell_type": "code",
   "execution_count": 27,
   "metadata": {
    "collapsed": false
   },
   "outputs": [
    {
     "name": "stdout",
     "output_type": "stream",
     "text": [
      "[[ 5  3  7]\n",
      " [ 2  7 -1]]\n"
     ]
    }
   ],
   "source": [
    "my_data_array = np.array([[5,3,7],[2,7,-1]])\n",
    "print(my_data_array)"
   ]
  },
  {
   "cell_type": "markdown",
   "metadata": {},
   "source": [
    "**An array filled with zeros**\n",
    "\n",
    "This is useful when we know how much data we want to store, but we don't know what it is yet. In this way, we first create an array of zeros and then later populate it when we have the data."
   ]
  },
  {
   "cell_type": "code",
   "execution_count": 28,
   "metadata": {
    "collapsed": false
   },
   "outputs": [
    {
     "name": "stdout",
     "output_type": "stream",
     "text": [
      "[[ 0.  0.  0.]\n",
      " [ 0.  0.  0.]\n",
      " [ 0.  0.  0.]\n",
      " [ 0.  0.  0.]]\n"
     ]
    }
   ],
   "source": [
    "my_zeros_array = np.zeros((4,3))\n",
    "print(my_zeros_array)"
   ]
  },
  {
   "cell_type": "markdown",
   "metadata": {},
   "source": [
    "**An array filled with ones**"
   ]
  },
  {
   "cell_type": "code",
   "execution_count": 29,
   "metadata": {
    "collapsed": false
   },
   "outputs": [
    {
     "name": "stdout",
     "output_type": "stream",
     "text": [
      "[[ 1.  1.  1.  1.  1.]\n",
      " [ 1.  1.  1.  1.  1.]]\n"
     ]
    }
   ],
   "source": [
    "my_ones_array = np.ones((2, 5))\n",
    "print(my_ones_array)"
   ]
  },
  {
   "cell_type": "markdown",
   "metadata": {},
   "source": [
    "**Specifying data type**\n",
    "\n",
    "All elements in a Numpy array must have the same type. This is different to lists, where elements in the same list can be of different types. For instance, a list could have two elements: an integer and a string, whereas the elements in an array must all be integers or all be floats for example.\n",
    "\n",
    "Let's create an array filled with ones, but let's make sure that the ones are represented as integers, instead of floats which is the default:"
   ]
  },
  {
   "cell_type": "code",
   "execution_count": 30,
   "metadata": {
    "collapsed": false
   },
   "outputs": [
    {
     "name": "stdout",
     "output_type": "stream",
     "text": [
      "[[1 1 1 1 1]\n",
      " [1 1 1 1 1]]\n"
     ]
    }
   ],
   "source": [
    "my_integer_array = np.ones((2,5), dtype=int)\n",
    "print(my_integer_array)"
   ]
  },
  {
   "cell_type": "markdown",
   "metadata": {},
   "source": [
    "If we check the type of the array like we did for other variables we notice that the actual type of the elements isn't revealed:"
   ]
  },
  {
   "cell_type": "code",
   "execution_count": 31,
   "metadata": {
    "collapsed": false
   },
   "outputs": [
    {
     "data": {
      "text/plain": [
       "numpy.ndarray"
      ]
     },
     "execution_count": 31,
     "metadata": {},
     "output_type": "execute_result"
    }
   ],
   "source": [
    "type(my_integer_array)"
   ]
  },
  {
   "cell_type": "markdown",
   "metadata": {},
   "source": [
    "`numpy.ndarray` just means that the variable is a Numpy array. To find the type of the array elements we do: "
   ]
  },
  {
   "cell_type": "code",
   "execution_count": 32,
   "metadata": {
    "collapsed": false
   },
   "outputs": [
    {
     "data": {
      "text/plain": [
       "dtype('int64')"
      ]
     },
     "execution_count": 32,
     "metadata": {},
     "output_type": "execute_result"
    }
   ],
   "source": [
    "my_integer_array.dtype"
   ]
  },
  {
   "cell_type": "markdown",
   "metadata": {},
   "source": [
    "### 3.4 Populating arrays"
   ]
  },
  {
   "cell_type": "markdown",
   "metadata": {
    "collapsed": true
   },
   "source": [
    "Adding data to an array is simply done like this:"
   ]
  },
  {
   "cell_type": "code",
   "execution_count": 33,
   "metadata": {
    "collapsed": false
   },
   "outputs": [
    {
     "name": "stdout",
     "output_type": "stream",
     "text": [
      "[[ 0.  0.  0.]\n",
      " [ 1.  2.  3.]\n",
      " [ 0.  0.  0.]\n",
      " [ 0.  0.  0.]]\n"
     ]
    }
   ],
   "source": [
    "my_zeros_array[1, :] = [1, 2, 3]\n",
    "print(my_zeros_array)"
   ]
  },
  {
   "cell_type": "markdown",
   "metadata": {},
   "source": [
    "We assign the data to the elements of the array using slicing and indexing. Notice how the data has to have the correct size. In this example, we are populating the three columns in the second row with three numbers."
   ]
  },
  {
   "cell_type": "markdown",
   "metadata": {},
   "source": [
    "### 3.4 Finding the size of an array"
   ]
  },
  {
   "cell_type": "code",
   "execution_count": 34,
   "metadata": {
    "collapsed": false
   },
   "outputs": [
    {
     "data": {
      "text/plain": [
       "(4, 3)"
      ]
     },
     "execution_count": 34,
     "metadata": {},
     "output_type": "execute_result"
    }
   ],
   "source": [
    "np.shape(my_zeros_array)"
   ]
  },
  {
   "cell_type": "markdown",
   "metadata": {},
   "source": [
    "## 4. `if` statements\n",
    "Sometimes we want our code to make a choice. We use `if` statements to evaluate some code only *if* some condition is true. Let's see an example:"
   ]
  },
  {
   "cell_type": "code",
   "execution_count": 35,
   "metadata": {
    "collapsed": false
   },
   "outputs": [
    {
     "name": "stdout",
     "output_type": "stream",
     "text": [
      "Yay! Bob can have fun on the rollercoaster!\n"
     ]
    }
   ],
   "source": [
    "# Check whether Bob is tall enough to ride a rollercoaster or not.\n",
    "\n",
    "if bob_height > 1.3:\n",
    "    print('Yay! Bob can have fun on the rollercoaster!')"
   ]
  },
  {
   "cell_type": "markdown",
   "metadata": {},
   "source": [
    "In the above example, we first check if Bob's height is greater than 1.3 using the `if` statement with the greater than symbol `>`. If this is true, then we print some text. We can also evaluate some code if the `if` statement is not true. Here's the example again, but with an `else` statement:"
   ]
  },
  {
   "cell_type": "code",
   "execution_count": 36,
   "metadata": {
    "collapsed": false
   },
   "outputs": [
    {
     "name": "stdout",
     "output_type": "stream",
     "text": [
      "Sorry, you are too short! Maybe next year...\n"
     ]
    }
   ],
   "source": [
    "anna_height = 1.2\n",
    "\n",
    "if anna_height > 1.3:\n",
    "    print('Yay! You can have fun on the rollercoaster!')\n",
    "else:\n",
    "    print('Sorry, you are too short! Maybe next year...')"
   ]
  },
  {
   "cell_type": "markdown",
   "metadata": {},
   "source": [
    "We can also be more specific by testing multiple conditions using the `elif` statement:"
   ]
  },
  {
   "cell_type": "code",
   "execution_count": 37,
   "metadata": {
    "collapsed": false
   },
   "outputs": [
    {
     "name": "stdout",
     "output_type": "stream",
     "text": [
      "You are too short for the rollercoaster, but have fun on the Teacups!\n"
     ]
    }
   ],
   "source": [
    "anna_height = 1.2\n",
    "\n",
    "if anna_height > 1.3:\n",
    "    print('Yay! You can have fun on the rollercoaster!')\n",
    "elif 1.1 < anna_height < 1.3:\n",
    "    print('You are too short for the rollercoaster, but have fun on the Teacups!')\n",
    "else:\n",
    "    print('Sorry, you are too short! Maybe next year...')"
   ]
  },
  {
   "cell_type": "markdown",
   "metadata": {},
   "source": [
    "## 5. `for` loops\n",
    "\n",
    "Sometimes we want to repeat the same code multiple times. For example, we might want to do the same thing to each element in a list. First, let's look at a simple example of a `for` loop. Let's print each element in a list:"
   ]
  },
  {
   "cell_type": "code",
   "execution_count": 38,
   "metadata": {
    "collapsed": false
   },
   "outputs": [
    {
     "name": "stdout",
     "output_type": "stream",
     "text": [
      "0\n",
      "1\n",
      "2\n"
     ]
    }
   ],
   "source": [
    "my_number_list = [0,1,2]\n",
    "for i in my_number_list:\n",
    "    print(i)"
   ]
  },
  {
   "cell_type": "markdown",
   "metadata": {},
   "source": [
    "This `for` loop is identical to the following code:"
   ]
  },
  {
   "cell_type": "code",
   "execution_count": 39,
   "metadata": {
    "collapsed": false
   },
   "outputs": [
    {
     "name": "stdout",
     "output_type": "stream",
     "text": [
      "0\n",
      "1\n",
      "2\n"
     ]
    }
   ],
   "source": [
    "i = my_number_list[0]\n",
    "print(i)\n",
    "i = my_number_list[1]\n",
    "print(i)\n",
    "i = my_number_list[2]\n",
    "print(i)"
   ]
  },
  {
   "cell_type": "markdown",
   "metadata": {},
   "source": [
    "We can see how the `for` loop is easier to read and type! This is even more true if we want to do something more useful. Let's say we have a list of numbers we want to add together:"
   ]
  },
  {
   "cell_type": "code",
   "execution_count": 40,
   "metadata": {
    "collapsed": false
   },
   "outputs": [
    {
     "name": "stdout",
     "output_type": "stream",
     "text": [
      "280\n"
     ]
    }
   ],
   "source": [
    "num_list = [10,20,30,40,50,60,70]\n",
    "\n",
    "total = num_list[0] + num_list[1] + num_list[2] + num_list[3] + num_list[4] + num_list[5] + num_list[6]\n",
    "\n",
    "print (total)"
   ]
  },
  {
   "cell_type": "markdown",
   "metadata": {},
   "source": [
    "If we had a list with 100 elements, imagine how long this would take to type! A better way is to use a `for` loop:"
   ]
  },
  {
   "cell_type": "code",
   "execution_count": 41,
   "metadata": {
    "collapsed": false
   },
   "outputs": [
    {
     "name": "stdout",
     "output_type": "stream",
     "text": [
      "280\n"
     ]
    }
   ],
   "source": [
    "total = 0\n",
    "for num in num_list:        # num takes the value of each element in num_list: num = num_list[0]; num = num_list[1] ...\n",
    "    total = total + num     # this value is added to total, so for the first two steps of  the loop:\n",
    "                            # total = 0 + num_list[0]\n",
    "                            # total = 0 + num_list[0] + num_list[1] and so on.\n",
    "\n",
    "print(total) "
   ]
  },
  {
   "cell_type": "markdown",
   "metadata": {},
   "source": [
    "We can understand how the loop works by looking at the table below. Each step of the loop is called an iteration (shown as rows in the table). So, for each iteration the code `total = total + num` is evaluated. The number of iterations is equal to the number of elements in the list `num_list`."
   ]
  },
  {
   "cell_type": "markdown",
   "metadata": {},
   "source": [
    "<table>\n",
    "<tr>\n",
    "<td style=\"padding:0.5em\">Iteration </td>\n",
    "<td style=\"padding:0.5em\">`num`</td>\n",
    "<td style=\"padding:0.5em; text-align:center\">`total`</td>\n",
    "</tr>\n",
    "<tr>\n",
    "<td style=\"padding:0.5em\">0</td>\n",
    "<td style=\"padding:0.5em\">10</td>\n",
    "<td style=\"padding:0.5em\">10</td>\n",
    "</tr>\n",
    "<tr>\n",
    "<td style=\"padding:0.5em\">1</td>\n",
    "<td style=\"padding:0.5em\">20</td>\n",
    "<td style=\"padding:0.5em\">30</td>\n",
    "</tr>\n",
    "<tr>\n",
    "<td style=\"padding:0.5em\">2</td>\n",
    "<td style=\"padding:0.5em\">30</td>\n",
    "<td style=\"padding:0.5em\">60</td>\n",
    "</tr>\n",
    "\n",
    "<tr>\n",
    "<td style=\"padding:0.5em\">3</td>\n",
    "<td style=\"padding:0.5em\">40</td>\n",
    "<td style=\"padding:0.5em\">100</td>\n",
    "</tr>\n",
    "<tr>\n",
    "<td style=\"padding:0.5em\">4</td>\n",
    "<td style=\"padding:0.5em\">50</td>\n",
    "<td style=\"padding:0.5em\">150</td>\n",
    "</tr>\n",
    "<tr>\n",
    "<td style=\"padding:0.5em\">5</td>\n",
    "<td style=\"padding:0.5em\">60</td>\n",
    "<td style=\"padding:0.5em\">210</td>\n",
    "</tr>\n",
    "<tr>\n",
    "<td style=\"padding:0.5em\">6</td>\n",
    "<td style=\"padding:0.5em\">70</td>\n",
    "<td style=\"padding:0.5em\">280</td>\n",
    "</tr>\n",
    "</table>"
   ]
  },
  {
   "cell_type": "markdown",
   "metadata": {},
   "source": [
    "## 6. Functions\n",
    "In the examples so far, when we wanted to display some text or a variable, we used the code `print()`. This is an example of a Python function.\n",
    "\n",
    "A function is a block of code that does something specific. We invoke a function (use it) by typing its name followed by parentheses, like this: `function_name()`. Some functions take inputs (these are known as parameters or arguments); these are typed in between the parenthesis, and separated by commas, like this: `function_name(x, y, z)`. In the case of the `print()` function, the input is the text or variable we want to display.\n",
    "\n",
    "Some functions also produce output which can be assigned to variables. For example, the output from the function for finding the size of an array (see section 3.4) can be assigned to a variable:"
   ]
  },
  {
   "cell_type": "code",
   "execution_count": 42,
   "metadata": {
    "collapsed": false
   },
   "outputs": [
    {
     "name": "stdout",
     "output_type": "stream",
     "text": [
      "(4, 3)\n"
     ]
    }
   ],
   "source": [
    "array_size = np.shape(my_zeros_array)\n",
    "print(array_size)"
   ]
  },
  {
   "cell_type": "markdown",
   "metadata": {},
   "source": [
    "Here, the function `shape()` is part of the Numpy package, and therefore, we type `np.shape` instead of just `shape()` so Python knows where to find the function. To be clear: `my_zeros_array` is the input argument to the function `shape()`. Python finds the number of rows and columns in the input array and returns the answer, which we assign to a new variable called `array_size`.\n",
    "\n",
    "`print()` is an example of a Python *built-in* function. We can also define our own functions like this:"
   ]
  },
  {
   "cell_type": "code",
   "execution_count": 42,
   "metadata": {
    "collapsed": false
   },
   "outputs": [
    {
     "name": "stdout",
     "output_type": "stream",
     "text": [
      "4\n"
     ]
    }
   ],
   "source": [
    "def my_func(x):\n",
    "    return 2 + x\n",
    "\n",
    "print(my_func(2))"
   ]
  },
  {
   "cell_type": "markdown",
   "metadata": {},
   "source": [
    "Here, we have defined a function called `my_func` which takes a single number as its input, adds two to it and then returns the result as its output. In maths, such a function would be defined like this: $f(x) = 2 + x$.\n",
    "\n",
    "\n",
    "To create a function, we start with the `def` keyword to indicate we will be defining a new function. Next, we type the name of our new function, followed by its parameters in parentheses and a colon `:`. The *function body* follows on the next lines with indentation. This is the code which is to be executed whenever you invoke the function. In the above example, all we are doing is a simple sum, but more complicated functions may include many lines of code."
   ]
  },
  {
   "cell_type": "markdown",
   "metadata": {},
   "source": [
    "** Useful functions **\n",
    "\n",
    "<table>\n",
    "\n",
    "<tr>\n",
    "<td style=\"padding:0.5em\">**Function name** </td>\n",
    "<td style=\"padding:0.5em\">**Description**</td>\n",
    "<td style=\"padding:0.5em;width:35%\">**Example**</td>\n",
    "</tr>\n",
    "\n",
    "<tr>\n",
    "<td style=\"padding:0.5em\">`print(my_variable)` </td>\n",
    "<td style=\"padding:0.5em\">Displays a variable or text on the screen.</td>\n",
    "<td style=\"padding:0.5em\">\n",
    "`a = 5 \n",
    "print(a)`\n",
    "</td>\n",
    "</tr>\n",
    "\n",
    "<tr>\n",
    "<td style=\"padding:0.5em\">`type(my_variable)` </td>\n",
    "<td style=\"padding:0.5em\">Returns the type of a variable e.g. `int`, `float`, `str`, `numpy.ndarray`.</td>\n",
    "<td style=\"padding:0.5em\">\n",
    "`type(a)`\n",
    "</td>\n",
    "</tr>\n",
    "\n",
    "<tr>\n",
    "<td style=\"padding:0.5em\">`len(my_object)` </td>\n",
    "<td style=\"padding:0.5em\">Returns the length (number of elements) of a list or other object.</td>\n",
    "<td style=\"padding:0.5em\">\n",
    "`my_list = [1,2,3]\n",
    "len(my_list)`\n",
    "</td>\n",
    "</tr>\n",
    "\n",
    "<tr>\n",
    "<td style=\"padding:0.5em\">`my_list.sort()` </td>\n",
    "<td style=\"padding:0.5em\">Sorts a list in ascending or alphabetiacal order depending on the type. The original list is modified. </td>\n",
    "<td style=\"padding:0.5em;\">\n",
    "`names = ['Eve','Jo','Alice']\n",
    "names.sort()\n",
    "print(names)`\n",
    "</td>\n",
    "</tr>\n",
    "\n",
    "<tr>\n",
    "<td style=\"padding:0.5em\">`np.linspace(start,stop,N)` </td>\n",
    "<td style=\"padding:0.5em\">Returns an array of `N` evenly spaced numbers between `start` and `stop`. The example generates 10 numbers between 10 and 100 (i.e. 10, 20, 30, ..., 100).</td>\n",
    "<td style=\"padding:0.5em;\">\n",
    "`np.linspace(10,100,10)`\n",
    "</td>\n",
    "</tr>\n",
    "\n",
    "<tr>\n",
    "<td style=\"padding:0.5em\">`np.sin(my_variable)` </td>\n",
    "<td style=\"padding:0.5em\">Returns the sine of `my_variable` (in radians). If `my_variable` is an array, the sine of each element is calculated and returned in a new array. A similar function exists for cosine, called `np.cos(my_variable)`. </td>\n",
    "<td style=\"padding:0.5em;\">\n",
    "`my_array = np.array([0.0, 5.0])\n",
    "np.sin(my_array)`\n",
    "</td>\n",
    "</tr>\n",
    "\n",
    "<tr>\n",
    "<td style=\"padding:0.5em\">`np.array(my_data)` </td>\n",
    "<td style=\"padding:0.5em\">Creates an array using `my_data`.</td>\n",
    "<td style=\"padding:0.5em;\">\n",
    "`my_array = np.array([0, 1],[3, 4])`\n",
    "</td>\n",
    "</tr>\n",
    "\n",
    "<tr>\n",
    "<td style=\"padding:0.5em\">`np.shape(my_array)` </td>\n",
    "<td style=\"padding:0.5em\">Returns the shape (e.g. number of rows and columns) of `my_array`.</td>\n",
    "<td style=\"padding:0.5em;\">\n",
    "</td>\n",
    "</tr>\n",
    "\n",
    "<tr>\n",
    "<td style=\"padding:0.5em\">`np.tile(my_array,reps)` </td>\n",
    "<td style=\"padding:0.5em\">Construct an array by repeating `my_array` the number of times given by `reps`. In the example, the original array 'my_array' is tiled (repeated) three times in the first dimension (rows) and two times in the second dimension (columns). So the original array has a shape of two rows and two columns (2, 2), and the returned array has a shape of six rows and four columns (6, 4).</td>\n",
    "<td style=\"padding:0.5em;\">\n",
    "`my_array = np.array([0, 1],[3, 4])\n",
    "np.tile(my_array,(3,2))`\n",
    "</td>\n",
    "</tr>\n",
    "\n",
    "<tr>\n",
    "<td style=\"padding:0.5em\">`plt.plot(x,y)` </td>\n",
    "<td style=\"padding:0.5em\">Displays a line plot of the data given by 'x' and 'y'.</td>\n",
    "<td style=\"padding:0.5em;\">\n",
    "`x = [0, 1, 2, 3, 4]\n",
    "y = [5, 3, 7, 6, 10]\n",
    "plt.plot(x,y)`\n",
    "</td>\n",
    "</tr>\n",
    "\n",
    "<tr>\n",
    "<td style=\"padding:0.5em\">\n",
    "`plt.imshow(my_array)\n",
    "plt.matshow(my_array)` </td>\n",
    "<td style=\"padding:0.5em\">Displays an image represented by the values in `my_array`. `my_array` can be two or three dimensional, see documentation (type `plt.imshow?`) for more details.</td>\n",
    "<td style=\"padding:0.5em;\">\n",
    "</td>\n",
    "</tr>\n",
    "\n",
    "\n",
    "\n",
    "</table>"
   ]
  }
 ],
 "metadata": {
  "anaconda-cloud": {},
  "kernelspec": {
   "display_name": "Python [Root]",
   "language": "python",
   "name": "Python [Root]"
  },
  "language_info": {
   "codemirror_mode": {
    "name": "ipython",
    "version": 3
   },
   "file_extension": ".py",
   "mimetype": "text/x-python",
   "name": "python",
   "nbconvert_exporter": "python",
   "pygments_lexer": "ipython3",
   "version": "3.5.2"
  }
 },
 "nbformat": 4,
 "nbformat_minor": 1
}
